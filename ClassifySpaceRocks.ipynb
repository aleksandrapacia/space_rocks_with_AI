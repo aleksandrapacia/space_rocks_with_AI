{
 "cells": [
  {
   "cell_type": "code",
   "execution_count": null,
   "metadata": {},
   "outputs": [],
   "source": [
    "# AI model to classify space rocks"
   ]
  },
  {
   "cell_type": "code",
   "execution_count": null,
   "metadata": {},
   "outputs": [],
   "source": [
    "# where data is\n",
    "data_dir = './Data'\n",
    "# read data-> crop&resize the images -> split data into 2 groups: TEST and TRAIN\n",
    "def load_split_train_test(data_dir, valid_size = .2):\n",
    "    #transform the images to train the model\n",
    "    train_transforms = transforms.Compose([ \n",
    "        transforms.RandomResizedCrop(224),\n",
    "        transforms.Resize(224),\n",
    "        transforms.ToTensor(),\n",
    "    ])\n",
    "\n",
    "    # transform images to test the model\n",
    "    test_transforms = transforms.Compose([\n",
    "        transforms.RandomResizedCrop(224)\n",
    "        transforms.Resize(224),\n",
    "        transforms.ToTensor()\n",
    "    ])\n",
    "\n",
    "    # two variables for folders with TRAINING and TESTING images\n"
   ]
  }
 ],
 "metadata": {
  "kernelspec": {
   "display_name": "Python 3",
   "language": "python",
   "name": "python3"
  },
  "language_info": {
   "name": "python",
   "version": "3.12.4"
  }
 },
 "nbformat": 4,
 "nbformat_minor": 2
}
