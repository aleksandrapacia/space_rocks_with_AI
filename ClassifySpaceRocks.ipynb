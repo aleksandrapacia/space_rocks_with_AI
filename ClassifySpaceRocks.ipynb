{
 "cells": [
  {
   "cell_type": "code",
   "execution_count": null,
   "metadata": {},
   "outputs": [],
   "source": [
    "# AI model to classify space rocks"
   ]
  },
  {
   "cell_type": "code",
   "execution_count": null,
   "metadata": {},
   "outputs": [],
   "source": [
    "import numpy as np\n",
    "import tensorflow as tf\n",
    "import matplotlib.pyplot as plt\n",
    "import torch\n",
    "from torch import nn, optim\n",
    "from torch.autograd import Variable\n",
    "import torch.nn.functional as F\n",
    "import torchvision\n",
    "from torchvision import datasets, transforms, models\n",
    "from PIL import Image\n",
    "%matplotlib inline\n",
    "%config InlineBackend.figure_format = 'retina'"
   ]
  },
  {
   "cell_type": "code",
   "execution_count": 2,
   "metadata": {},
   "outputs": [],
   "source": [
    "# where data is\n",
    "data_dir = './Data'\n",
    "# read data-> crop&resize the images -> split data into 2 groups: TEST and TRAIN\n",
    "def load_split_train_test(data_dir, valid_size = .2):\n",
    "    #transform the images to train the model\n",
    "    train_transforms = transforms.Compose([ \n",
    "        transforms.RandomResizedCrop(224),\n",
    "        transforms.Resize(224),\n",
    "        transforms.ToTensor(),\n",
    "    ])\n",
    "\n",
    "    # transform images to test the model\n",
    "    test_transforms = transforms.Compose([\n",
    "        transforms.RandomResizedCrop(224),\n",
    "        transforms.Resize(224),\n",
    "        transforms.ToTensor()\n",
    "    ])\n",
    "\n",
    "    # two variables for folders with TRAINING and TESTING images\n",
    "    train_data = datasets.ImageFolder(data_dir, transform=train_transforms)\n",
    "    test_data = datasets.ImageFolder(data_dir, transform=test_transforms)\n",
    "\n",
    "    # get number of images in the TRAINING FOLDER\n",
    "    num_train = len(num_train)\n",
    "\n",
    "    # list of numbers from 0 -> number of (training images - 1) -> e.g for 6 images [0,1,2,3,4,5]\n",
    "    # indices - indeksy (plural)\n",
    "    indices = list(range(num_train))\n",
    "\n",
    "    # if valid_size == .2 -> find the index of the image that represents 20% of the data\n",
    "\n",
    "    # if there are 10 images -> a split would result in 2 (because it's 20 %)\n",
    "\n",
    "    # split = int(np.floor(valid_size * num_train)) -> int(np.floor(2)) -> int(2) -> 2\n",
    "    split = int(np.floor(valid_size *  num_train))\n",
    "\n",
    "    # shuffle the indices randomly\n",
    "    # so 10 images might look like this : [3,1,6,9,0,2,4,8,7,5]\n",
    "    np.random.shuffle(indices)\n",
    "\n",
    "    from torch.utils.data.sampler import SubsetRandomSampler\n",
    "\n",
    "    # so we shuffled the indices randomly\n",
    "    # we grab 20 percent of shuffled indices to store them in the TRAINING INDEX LIST\n",
    "    # then we grab the remainder (so 80 percent) shuffled indices to storem them in TESTING INDEX LIST\n",
    "    # result :\n",
    "    # train_idx is the list [1,5] (20 %)\n",
    "    # test_idx is the list [4,6,7,1,3,9,8] (80 %)\n",
    "    train_idx, test_idx = indices[split:] , indices[:split]\n",
    "\n",
    "    #create loaders to load 16 images from TRAIN and TEST folders\n",
    "    #images are chosen based on SHUFFLED INDEX LISTS and by using samplers (?)\n",
    "    trainloader = torch.utils.data.DataLoader(train_data, sampler=train_sampler, batch_size=16)\n",
    "    testloader = torch.utils.data.DataLoader(test_data, sampler=test_sampler, batch_size=16)\n",
    "\n",
    "    # returns loaders so that you can grab images randomly from the training and testing data folders\n",
    "    return trainloader, testloader\n",
    "\n",
    "    \n",
    "\n",
    "\n",
    "\n",
    "\n",
    "\n",
    "\n",
    "\n"
   ]
  }
 ],
 "metadata": {
  "kernelspec": {
   "display_name": "Python 3",
   "language": "python",
   "name": "python3"
  },
  "language_info": {
   "codemirror_mode": {
    "name": "ipython",
    "version": 3
   },
   "file_extension": ".py",
   "mimetype": "text/x-python",
   "name": "python",
   "nbconvert_exporter": "python",
   "pygments_lexer": "ipython3",
   "version": "3.12.4"
  }
 },
 "nbformat": 4,
 "nbformat_minor": 2
}
